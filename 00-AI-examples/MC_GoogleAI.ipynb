{
 "cells": [
  {
   "cell_type": "code",
   "execution_count": 4,
   "id": "6d63c013-24a3-437f-9324-a6439ffa876f",
   "metadata": {},
   "outputs": [
    {
     "name": "stdout",
     "output_type": "stream",
     "text": [
      "Final positions: [[2.21092579 3.74232835 7.00032782]\n",
      " [1.60917489 1.00110031 8.49345647]\n",
      " [7.51764221 8.90768288 9.00885756]\n",
      " [8.89208245 3.57242749 1.49305145]\n",
      " [2.62346509 0.96456347 0.86957929]\n",
      " [8.51967497 5.11601839 6.08538596]\n",
      " [6.61858165 1.89089705 7.44661168]\n",
      " [1.24893726 0.33055606 1.21569457]\n",
      " [5.65175293 4.88168771 5.03974585]\n",
      " [9.38408368 1.05082465 4.0985775 ]]\n"
     ]
    },
    {
     "data": {
      "text/plain": [
       "[<matplotlib.lines.Line2D at 0x10f583ed0>]"
      ]
     },
     "execution_count": 4,
     "metadata": {},
     "output_type": "execute_result"
    },
    {
     "data": {
      "image/png": "[encoded data removed]",
      "text/plain": [
       "<Figure size 640x480 with 1 Axes>"
      ]
     },
     "metadata": {},
     "output_type": "display_data"
    }
   ],
   "source": [
    "import numpy as np\n",
    "import matplotlib.pyplot as plt \n",
    "def calculate_lj_potential(r, epsilon, sigma):\n",
    "    \"\"\"\n",
    "    Calculates the Lennard-Jones potential energy between two particles.\n",
    "    r: distance between particles\n",
    "    epsilon: depth of the potential well\n",
    "    sigma: finite distance at which the inter-particle potential is zero\n",
    "    \"\"\"\n",
    "    if r == 0:\n",
    "        return np.inf  # Avoid division by zero\n",
    "    r_ratio_6 = (sigma / r)**6\n",
    "    r_ratio_12 = r_ratio_6**2\n",
    "    return 4 * epsilon * (r_ratio_12 - r_ratio_6)\n",
    "\n",
    "\n",
    "def initialize_positions(num_particles, box_size):\n",
    "    \"\"\"Initializes random positions for particles within a cubic box.\"\"\"\n",
    "    return np.random.rand(num_particles, 3) * box_size\n",
    "\n",
    "\n",
    "def propose_move(positions, particle_idx, max_displacement, box_size):\n",
    "    \"\"\"Proposes a random displacement for a single particle.\"\"\"\n",
    "    new_position = positions[particle_idx] + (np.random.rand(3) - 0.5) * max_displacement\n",
    "    # Apply periodic boundary conditions\n",
    "    new_position = new_position % box_size\n",
    "    return new_position\n",
    "\n",
    "def calculate_total_energy(positions, epsilon, sigma, box_size):\n",
    "    \"\"\"Calculates the total potential energy of the system.\"\"\"\n",
    "    total_energy = 0.0\n",
    "    num_particles = positions.shape[0]\n",
    "    for i in range(num_particles):\n",
    "        for j in range(i + 1, num_particles):\n",
    "            # Calculate distance with periodic boundary conditions\n",
    "            dr = positions[j] - positions[i]\n",
    "            dr = dr - box_size * np.round(dr / box_size)\n",
    "            r = np.linalg.norm(dr)\n",
    "            total_energy += calculate_lj_potential(r, epsilon, sigma)\n",
    "    return total_energy\n",
    "\n",
    "\n",
    "def metropolis_accept(delta_energy, temperature):\n",
    "    \"\"\"Applies the Metropolis acceptance criterion.\"\"\"\n",
    "    if delta_energy <= 0:\n",
    "        return True\n",
    "    else:\n",
    "        return np.random.rand() < np.exp(-delta_energy / temperature)\n",
    "\n",
    "\n",
    "def run_lj_mc_simulation(num_particles, box_size, temperature, epsilon, sigma, max_displacement, num_steps):\n",
    "    \"\"\"Runs a simple LJ Monte Carlo simulation.\"\"\"\n",
    "    positions = initialize_positions(num_particles, box_size)\n",
    "    current_energy = calculate_total_energy(positions, epsilon, sigma, box_size)\n",
    "    \n",
    "    energies = [current_energy]\n",
    "\n",
    "    for step in range(num_steps):\n",
    "        particle_idx = np.random.randint(num_particles)\n",
    "        old_position = positions[particle_idx].copy()\n",
    "        \n",
    "        # Propose a move\n",
    "        new_position = propose_move(positions, particle_idx, max_displacement, box_size)\n",
    "        positions[particle_idx] = new_position\n",
    "        \n",
    "        # Calculate new energy\n",
    "        new_energy = calculate_total_energy(positions, epsilon, sigma, box_size)\n",
    "        delta_energy = new_energy - current_energy\n",
    "        \n",
    "        # Accept or reject the move\n",
    "        if metropolis_accept(delta_energy, temperature):\n",
    "            current_energy = new_energy\n",
    "        else:\n",
    "            positions[particle_idx] = old_position  # Revert to old position\n",
    "            \n",
    "        energies.append(current_energy)\n",
    "        \n",
    "    return positions, energies\n",
    "\n",
    "\n",
    "# Simulation parameters\n",
    "num_particles = 10\n",
    "box_size = 10.0\n",
    "temperature = 1.0\n",
    "epsilon = 1.0\n",
    "sigma = 1.0\n",
    "max_displacement = 0.1\n",
    "num_steps =1000\n",
    "\n",
    "# Run the simulation\n",
    "final_positions, energy_history = run_lj_mc_simulation(\n",
    "    num_particles, box_size, temperature, epsilon, sigma, max_displacement, num_steps\n",
    ")\n",
    "\n",
    "print(\"Final positions:\", final_positions)\n",
    "# You can further analyze or plot the energy_history to observe convergence.\n",
    "\n",
    "plt.plot(energy_history)"
   ]
  },
  {
   "cell_type": "code",
   "execution_count": null,
   "id": "03d30091-b95c-47f7-a773-d040cdbac5a2",
   "metadata": {},
   "outputs": [],
   "source": []
  }
 ],
 "metadata": {
  "kernelspec": {
   "display_name": "Python 3 (ipykernel)",
   "language": "python",
   "name": "python3"
  },
  "language_info": {
   "codemirror_mode": {
    "name": "ipython",
    "version": 3
   },
   "file_extension": ".py",
   "mimetype": "text/x-python",
   "name": "python",
   "nbconvert_exporter": "python",
   "pygments_lexer": "ipython3",
   "version": "3.11.8"
  }
 },
 "nbformat": 4,
 "nbformat_minor": 5
}
