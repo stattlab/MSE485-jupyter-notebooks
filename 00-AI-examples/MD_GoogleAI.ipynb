{
 "cells": [
  {
   "cell_type": "code",
   "execution_count": 1,
   "id": "90c91cc4-fe46-40a9-9d00-1bb8b36b02b5",
   "metadata": {},
   "outputs": [],
   "source": [
    "import numpy as np\n",
    "\n",
    "# Define LJ potential and force functions\n",
    "def lj_potential(r, epsilon, sigma):\n",
    "    return 4 * epsilon * ((sigma / r)**12 - (sigma / r)**6)\n",
    "\n",
    "def lj_force(r, epsilon, sigma):\n",
    "    return 24 * epsilon * (2 * (sigma**12 / r**13) - (sigma**6 / r**7))\n",
    "\n",
    "# Initialize positions and velocities (simplified)\n",
    "num_particles = 10\n",
    "box_size = 5.0\n",
    "positions = np.random.rand(num_particles, 3) * box_size\n",
    "velocities = np.random.randn(num_particles, 3) * 0.1 # Example initial velocities\n",
    "\n",
    "# Simulation loop (simplified)\n",
    "dt = 0.01\n",
    "num_steps = 1000\n",
    "epsilon = 1.0\n",
    "sigma = 1.0\n",
    "\n",
    "for step in range(num_steps):\n",
    "    forces = np.zeros_like(positions)\n",
    "    # Calculate pairwise forces (simplified, no PBC)\n",
    "    for i in range(num_particles):\n",
    "        for j in range(i + 1, num_particles):\n",
    "            r_vec = positions[j] - positions[i]\n",
    "            r = np.linalg.norm(r_vec)\n",
    "            if r > 0: # Avoid division by zero\n",
    "                force_magnitude = lj_force(r, epsilon, sigma)\n",
    "                force_direction = r_vec / r\n",
    "                forces[i] += force_magnitude * force_direction\n",
    "                forces[j] -= force_magnitude * force_direction\n",
    "\n",
    "    # Update positions and velocities using Velocity Verlet (simplified)\n",
    "    # This part would involve acceleration calculation (force/mass)\n",
    "    # and applying the Verlet integration steps.\n",
    "    # For a full implementation, refer to standard MD textbooks or online resources.\n",
    "    "
   ]
  },
  {
   "cell_type": "markdown",
   "id": "566b131a-6b95-4803-a217-a5d6c10db8d5",
   "metadata": {},
   "source": [
    "https://stackoverflow.com/questions/79406419/molecular-dynamic-simulation-using-velocity-verlet-in-python \n"
   ]
  }
 ],
 "metadata": {
  "kernelspec": {
   "display_name": "Python 3 (ipykernel)",
   "language": "python",
   "name": "python3"
  },
  "language_info": {
   "codemirror_mode": {
    "name": "ipython",
    "version": 3
   },
   "file_extension": ".py",
   "mimetype": "text/x-python",
   "name": "python",
   "nbconvert_exporter": "python",
   "pygments_lexer": "ipython3",
   "version": "3.11.8"
  }
 },
 "nbformat": 4,
 "nbformat_minor": 5
}
