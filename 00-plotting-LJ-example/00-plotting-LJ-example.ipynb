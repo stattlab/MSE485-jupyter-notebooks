{
 "cells": [
  {
   "cell_type": "code",
   "execution_count": 1,
   "id": "4c7ac3b0-6d8a-426b-9011-62424b4099b9",
   "metadata": {},
   "outputs": [],
   "source": [
    "import numpy as np \n",
    "import scipy \n",
    "import matplotlib \n",
    "import matplotlib.pyplot as plt "
   ]
  },
  {
   "cell_type": "code",
   "execution_count": 2,
   "id": "d68d1e4e-4304-4e30-9227-86b6f8c9f3a2",
   "metadata": {},
   "outputs": [],
   "source": [
    "# Google docstring example\n",
    "def lennard_jones_potential(r, epsilon, sigma):\n",
    "    \"\"\"\n",
    "    Calculates the Lennard-Jones potential.\n",
    "\n",
    "    Args:\n",
    "        r (numpy.ndarray): Array of distances.\n",
    "        epsilon (float):   Depth of the potential well.\n",
    "        sigma (float):     Distance at which the potential energy is zero.\n",
    "\n",
    "    Returns:\n",
    "        LJ_energy (numpy.ndarray): Array of Lennard-Jones potential energies.\n",
    "    \"\"\"\n",
    "    sigma_over_six = (sigma/r)**6\n",
    "    LJ_energy = 4 * epsilon * (sigma_over_six**2 - sigma_over_six)\n",
    "    return LJ_energy"
   ]
  },
  {
   "cell_type": "code",
   "execution_count": 3,
   "id": "03fe6867-23ea-4b83-af6b-9ebd395cf592",
   "metadata": {},
   "outputs": [],
   "source": [
    "epsilon = 1.0  \n",
    "sigma = 1.0    \n",
    "\n",
    "r = np.linspace(0.8, 3.0, 500)\n",
    "\n",
    "potential_energy = lennard_jones_potential(r, epsilon, sigma)\n"
   ]
  },
  {
   "cell_type": "code",
   "execution_count": 19,
   "id": "eb6b6b0f-13ef-41e3-be00-d1952558eec9",
   "metadata": {},
   "outputs": [
    {
     "data": {
      "image/png": "[encoded data removed]",
      "text/plain": [
       "<Figure size 300x200 with 1 Axes>"
      ]
     },
     "metadata": {},
     "output_type": "display_data"
    }
   ],
   "source": [
    "fig, ax = plt.subplots(1, 1, figsize=(3, 2))\n",
    "\n",
    "# potential minimum\n",
    "minimum_location = sigma*(2**(1/6))\n",
    "\n",
    "# remember to use colorblind friendly color schemes\n",
    "ax.plot(r, potential_energy, color='black', label='LJ')\n",
    "ax.axhline(0, color='gray', linestyle='--', linewidth=0.8) \n",
    "ax.axvline(sigma, color='red', linestyle=':', linewidth=0.9, label=r'$\\sigma$')\n",
    "ax.axvline(minimum_location, color='blue', linestyle='-.', linewidth=0.9, label=r'$r_{min}$') \n",
    "ax.set_xlabel('Distance $[\\sigma]$')\n",
    "ax.set_ylabel('Potential Energy $[\\epsilon]$')\n",
    "\n",
    "ax.set_ylim(-1.2, 2) \n",
    "ax.set_xlim(0.8,3) \n",
    "\n",
    "ax.legend(frameon=False,handlelength=1)\n",
    "plt.show()\n",
    "\n",
    "# Font sizes should be large enough to be legible \n",
    "# Axis should have labels, units \n",
    "# Lines/points etc. should have labels "
   ]
  },
  {
   "cell_type": "code",
   "execution_count": null,
   "id": "f441630b-f3d8-4137-bdd2-f443dd0e1a33",
   "metadata": {},
   "outputs": [],
   "source": []
  }
 ],
 "metadata": {
  "kernelspec": {
   "display_name": "Python 3 (ipykernel)",
   "language": "python",
   "name": "python3"
  },
  "language_info": {
   "codemirror_mode": {
    "name": "ipython",
    "version": 3
   },
   "file_extension": ".py",
   "mimetype": "text/x-python",
   "name": "python",
   "nbconvert_exporter": "python",
   "pygments_lexer": "ipython3",
   "version": "3.11.8"
  }
 },
 "nbformat": 4,
 "nbformat_minor": 5
}
