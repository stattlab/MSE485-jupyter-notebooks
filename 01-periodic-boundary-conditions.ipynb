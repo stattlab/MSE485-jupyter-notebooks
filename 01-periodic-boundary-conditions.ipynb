{
 "cells": [
  {
   "cell_type": "markdown",
   "id": "c522759d-4c36-4ac0-b243-5eb39faea8ea",
   "metadata": {},
   "source": [
    "# Periodic Boundary Conditions \n",
    "\n",
    "Most simplest implementation. These functions all take two vectors ``x0`` and ``x1``, a box size ``Box`` (also a vector, same dimension as ``x0``). We assume the convention that the Box is defined from $-L/2$ to $L/2$ and that the origin is at $[0,0,0]$. "
   ]
  },
  {
   "cell_type": "code",
   "execution_count": 1,
   "id": "709c4384-1aa2-408f-96b4-d9c8d3513615",
   "metadata": {},
   "outputs": [],
   "source": [
    "import numpy as np "
   ]
  },
  {
   "cell_type": "code",
   "execution_count": 2,
   "id": "8f6e65ad-aad2-4dee-abc6-da16faf9cc8b",
   "metadata": {},
   "outputs": [],
   "source": [
    "def dist(x1,x0):\n",
    "    \"\"\"Calculates distance between two points x1 and x0.\n",
    "\n",
    "    Args:\n",
    "        x0: vector (list or np array)\n",
    "        x1: vector (list or np array)\n",
    "\n",
    "    Returns: \n",
    "        dist: float - distance between x1 and x0\n",
    "    \"\"\"\n",
    "    \n",
    "    x1 = np.array(x1)\n",
    "    x0 = np.array(x0)\n",
    "    \n",
    "    delta = x1 - x0\n",
    "    dist = np.sqrt(delta[0]**2+delta[1]**2+delta[2]**2)\n",
    "    \n",
    "    return dist\n",
    "\n",
    "def dist_pbc(x1,x0,Box):\n",
    "    \"\"\"Calculates distance between two points x1 and x0 with taking periodic boundary conditions into account.\n",
    "\n",
    "    All args must have the same dimension. \n",
    "    \n",
    "    Args:\n",
    "        x0: vector (list or np array)\n",
    "        x1: vector (list or np array)\n",
    "        Box: vector (list or np array)\n",
    "        \n",
    "    Returns: \n",
    "        dist: float - distance between x1 and x0, wrapped into the box \n",
    "    \"\"\"\n",
    "    x1 = np.array(x1)\n",
    "    x0 = np.array(x0)\n",
    "    Box = np.array(Box)\n",
    "    \n",
    "    delta = x1 - x0\n",
    "    for i in [0,1,2]:\n",
    "        if delta[i] > 0.5*Box[i]:\n",
    "            delta[i] = Box[i] - delta[i] \n",
    "        if delta[i] < - 0.5*Box[i]:\n",
    "            delta[i] = Box[i] + delta[i]\n",
    "        \n",
    "    return np.linalg.norm(delta)"
   ]
  },
  {
   "cell_type": "markdown",
   "id": "81965ea9-0ae4-43e5-8ba3-f32c124d10c9",
   "metadata": {},
   "source": [
    "## Try the Functions"
   ]
  },
  {
   "cell_type": "code",
   "execution_count": 3,
   "id": "5c4bac60-45c7-4b37-b05f-841298f6efb5",
   "metadata": {},
   "outputs": [],
   "source": [
    "Box = [10,10,10]"
   ]
  },
  {
   "cell_type": "code",
   "execution_count": 4,
   "id": "0d374725-3d35-461b-b595-ea004e6ed298",
   "metadata": {},
   "outputs": [],
   "source": [
    "points_A = [2.0,3,1]\n",
    "points_D = [-4.0,0,0]"
   ]
  },
  {
   "cell_type": "code",
   "execution_count": 5,
   "id": "b37634f9-ab82-4b4d-9cd5-01a37b44ec85",
   "metadata": {},
   "outputs": [
    {
     "name": "stdout",
     "output_type": "stream",
     "text": [
      "6.782329983125268 5.0990195135927845\n"
     ]
    }
   ],
   "source": [
    "dist_no_pbc = dist(points_A,points_D)\n",
    "dist_with_pbc = dist_pbc(points_A,points_D,Box)\n",
    "\n",
    "print(dist_no_pbc, dist_with_pbc)"
   ]
  },
  {
   "cell_type": "markdown",
   "id": "0d3d9476-87fd-46f6-8cd0-9828f3aa43d2",
   "metadata": {},
   "source": [
    "## Tests \n",
    "\n",
    "A metric needs to fulfill the following: \n",
    "\n",
    "1. symmetry $g(x,y) = g(y,x)$\n",
    "2. identity $g(x,x) = 0$ (also means that $g(y,x)=0 \\rightarrow x=y$)\n",
    "3. triangle inequality  $g(x,y)+g(y,z)\\geq g(x,z)$\n",
    "\n",
    "First, let's test an obvious input:"
   ]
  },
  {
   "cell_type": "code",
   "execution_count": 6,
   "id": "26a16d84-54fa-4577-bfc2-5a3bdedafa03",
   "metadata": {},
   "outputs": [
    {
     "name": "stdout",
     "output_type": "stream",
     "text": [
      "1.0\n"
     ]
    }
   ],
   "source": [
    "d = dist_pbc([0,0,0],[0,0,1],Box)\n",
    "print(d)"
   ]
  },
  {
   "cell_type": "markdown",
   "id": "02a1191b-0809-4be1-b6f8-5ce92e6ccb1d",
   "metadata": {},
   "source": [
    "Test symmetry  $g(x,y)=g(y,x)$:"
   ]
  },
  {
   "cell_type": "code",
   "execution_count": 7,
   "id": "6574b3a2-35c9-432d-a2bd-603a3b9a9b50",
   "metadata": {},
   "outputs": [
    {
     "name": "stdout",
     "output_type": "stream",
     "text": [
      "dist AD 5.0990195135927845 dist DA 5.0990195135927845 same?  True\n"
     ]
    }
   ],
   "source": [
    "dist_with_pbc_AD = dist_pbc(points_A,points_D,Box)\n",
    "dist_with_pbc_DA = dist_pbc(points_A,points_D,Box)\n",
    "\n",
    "same = np.array_equal(dist_with_pbc_AD,dist_with_pbc_DA)\n",
    "print(\"dist AD\", dist_with_pbc_AD, \"dist DA\",dist_with_pbc_DA,\"same? \",same)"
   ]
  },
  {
   "cell_type": "markdown",
   "id": "3beb55aa-4ea9-4d2e-aa5e-e0e72ffe5bc0",
   "metadata": {},
   "source": [
    "Test $g(x,x)=0$:"
   ]
  },
  {
   "cell_type": "code",
   "execution_count": 9,
   "id": "73b92811-ba12-43cd-bbf3-68a792bead62",
   "metadata": {},
   "outputs": [
    {
     "name": "stdout",
     "output_type": "stream",
     "text": [
      "dist AA 0.0 zero?  True\n"
     ]
    }
   ],
   "source": [
    "dist_with_pbc_AA = dist_pbc(points_A,points_A,Box)\n",
    "\n",
    "same = np.array_equal(dist_with_pbc_AA,0)\n",
    "print(\"dist AA\", dist_with_pbc_AA,\"zero? \",same)"
   ]
  },
  {
   "cell_type": "markdown",
   "id": "ff39b9e1-c41f-409a-8fae-51d3ddec006d",
   "metadata": {},
   "source": [
    "Test inequality  $g(x,y)+g(y,z)\\geq g(x,z)$:"
   ]
  },
  {
   "cell_type": "code",
   "execution_count": 10,
   "id": "404720f4-82e7-4168-9fc6-032a079753b1",
   "metadata": {},
   "outputs": [
    {
     "name": "stdout",
     "output_type": "stream",
     "text": [
      "5.0990195135927845 + 4.0 = 9.099019513592784 >= 4.242640687119285\n",
      "True\n"
     ]
    }
   ],
   "source": [
    "points_E = [-4,4,0]\n",
    "\n",
    "dist_with_pbc_AE = dist_pbc(points_A,points_E,Box)\n",
    "dist_with_pbc_DE = dist_pbc(points_D,points_E,Box)\n",
    "\n",
    "print(dist_with_pbc_AD, \"+\" , dist_with_pbc_DE,\"=\",dist_with_pbc_AD + dist_with_pbc_DE,\">=\", dist_with_pbc_AE)\n",
    "print(dist_with_pbc_AD + dist_with_pbc_DE >= dist_with_pbc_AE)"
   ]
  },
  {
   "cell_type": "markdown",
   "id": "1f16652e-1fa6-4214-b5c3-1daa25a45686",
   "metadata": {},
   "source": [
    "Note that this function cannot take a list of points, which is a quite common calculation in simulations, e.g., compute all distances of one particle to all other particles in the system.\n",
    "\n",
    "## Alternative Implementations "
   ]
  },
  {
   "cell_type": "code",
   "execution_count": 11,
   "id": "46c76222-6836-4aae-90a2-c7c5141805ab",
   "metadata": {},
   "outputs": [
    {
     "name": "stdout",
     "output_type": "stream",
     "text": [
      "5.0990195135927845\n"
     ]
    }
   ],
   "source": [
    "def dist_pbc_1(x1,x0,Box):\n",
    "    x1 = np.array(x1)\n",
    "    x0 = np.array(x0)\n",
    "    Box = np.array(Box)\n",
    "    \n",
    "    delta = x1 - x0\n",
    "    for i in [0,1,2]:\n",
    "        if delta[i] > 0.5*Box[i]:\n",
    "            delta[i] = Box[i] - delta[i] \n",
    "        if delta[i] < - 0.5*Box[i]:\n",
    "            delta[i] = Box[i] + delta[i]\n",
    "        \n",
    "    return np.linalg.norm(delta)\n",
    "\n",
    "\n",
    "\n",
    "d = dist_pbc_1(points_A,points_D,Box)\n",
    "print(d)\n"
   ]
  },
  {
   "cell_type": "code",
   "execution_count": 12,
   "id": "85fa06ab-19df-4933-b93d-89f80892d741",
   "metadata": {},
   "outputs": [
    {
     "ename": "ValueError",
     "evalue": "The truth value of an array with more than one element is ambiguous. Use a.any() or a.all()",
     "output_type": "error",
     "traceback": [
      "\u001b[0;31m---------------------------------------------------------------------------\u001b[0m",
      "\u001b[0;31mValueError\u001b[0m                                Traceback (most recent call last)",
      "Cell \u001b[0;32mIn[12], line 1\u001b[0m\n\u001b[0;32m----> 1\u001b[0m d \u001b[38;5;241m=\u001b[39m dist_pbc_1([points_A],[points_D],Box)\n\u001b[1;32m      2\u001b[0m \u001b[38;5;28mprint\u001b[39m(d)\n",
      "Cell \u001b[0;32mIn[11], line 8\u001b[0m, in \u001b[0;36mdist_pbc_1\u001b[0;34m(x1, x0, Box)\u001b[0m\n\u001b[1;32m      6\u001b[0m delta \u001b[38;5;241m=\u001b[39m x1 \u001b[38;5;241m-\u001b[39m x0\n\u001b[1;32m      7\u001b[0m \u001b[38;5;28;01mfor\u001b[39;00m i \u001b[38;5;129;01min\u001b[39;00m [\u001b[38;5;241m0\u001b[39m,\u001b[38;5;241m1\u001b[39m,\u001b[38;5;241m2\u001b[39m]:\n\u001b[0;32m----> 8\u001b[0m     \u001b[38;5;28;01mif\u001b[39;00m delta[i] \u001b[38;5;241m>\u001b[39m \u001b[38;5;241m0.5\u001b[39m\u001b[38;5;241m*\u001b[39mBox[i]:\n\u001b[1;32m      9\u001b[0m         delta[i] \u001b[38;5;241m=\u001b[39m Box[i] \u001b[38;5;241m-\u001b[39m delta[i] \n\u001b[1;32m     10\u001b[0m     \u001b[38;5;28;01mif\u001b[39;00m delta[i] \u001b[38;5;241m<\u001b[39m \u001b[38;5;241m-\u001b[39m \u001b[38;5;241m0.5\u001b[39m\u001b[38;5;241m*\u001b[39mBox[i]:\n",
      "\u001b[0;31mValueError\u001b[0m: The truth value of an array with more than one element is ambiguous. Use a.any() or a.all()"
     ]
    }
   ],
   "source": [
    "d = dist_pbc_1([points_A],[points_D],Box)\n",
    "print(d)"
   ]
  },
  {
   "cell_type": "code",
   "execution_count": 14,
   "id": "3e55602a-92f6-411f-9afa-9a620a1985d1",
   "metadata": {},
   "outputs": [
    {
     "name": "stdout",
     "output_type": "stream",
     "text": [
      "[5.09901951]\n",
      "[5.09901951 0.        ]\n",
      "[0.         0.         5.09901951]\n"
     ]
    }
   ],
   "source": [
    "def dist_pbc_2(x1,x0,Box):\n",
    "    \"\"\"Calculates distance between two points x1 and x0 with taking periodic boundary conditions into account.\n",
    "\n",
    "    This function can also take input vectors of different dimensions, i.e a [list of points] vs. a point. In this case \n",
    "    the function will return a list of distances. \n",
    "    \n",
    "    Args:\n",
    "        x0: vector (list or np array)\n",
    "        x1: vector (list or np array)\n",
    "        Box: vector (list or np array)\n",
    "        \n",
    "    Returns: \n",
    "        dist: np array - distances between x1 and x0, wrapped into the box \n",
    "    \"\"\"\n",
    "    \n",
    "    x1 = np.array(x1)\n",
    "    x0 = np.array(x0)\n",
    "    Box = np.array(Box) \n",
    "    \n",
    "    delta = x1 - x0\n",
    "    delta =  np.where(delta > 0.5 * Box, Box - delta,  np.where(delta <- 0.5 * Box, Box + delta, delta))\n",
    "    \n",
    "    return np.linalg.norm(delta,axis=1)\n",
    "\n",
    "\n",
    "\n",
    "d = dist_pbc_2([points_A],[points_D],Box)\n",
    "print(d)\n",
    "d = dist_pbc_2([points_A,points_D],[points_D],Box)\n",
    "print(d)\n",
    "d = dist_pbc_2([points_A,points_D,points_A],[points_A,points_D,points_D],Box)\n",
    "print(d)"
   ]
  },
  {
   "cell_type": "code",
   "execution_count": 15,
   "id": "572f98f9-c4fc-4e8b-8f5c-450c95a2a3ac",
   "metadata": {},
   "outputs": [
    {
     "name": "stdout",
     "output_type": "stream",
     "text": [
      "[5.09901951]\n",
      "[5.09901951 0.         5.09901951]\n",
      "[0.         0.         5.09901951]\n"
     ]
    }
   ],
   "source": [
    "def dist_pbc_3(x1,x0,Box): \n",
    "    \"\"\"\n",
    "    \n",
    "    \"\"\"\n",
    "    x1 = np.array(x1)\n",
    "    x0 = np.array(x0)\n",
    "    Box = np.array(Box) \n",
    "    \n",
    "    delta = x1 - x0 \n",
    "    delta -= np.floor(delta/(0.5*Box))*Box\n",
    "    \n",
    "    return np.linalg.norm(delta,axis=1)\n",
    "\n",
    "\n",
    "\n",
    "d = dist_pbc_3([points_A],[points_D],Box)\n",
    "print(d)\n",
    "d = dist_pbc_3([points_A,points_D,points_A],[points_D],Box)\n",
    "print(d)\n",
    "d = dist_pbc_3([points_A,points_D,points_A],[points_A,points_D,points_D],Box)\n",
    "print(d)"
   ]
  },
  {
   "cell_type": "markdown",
   "id": "924a4cfd-479a-445f-971c-f661e1975e29",
   "metadata": {},
   "source": [
    "# GoogleAI Code for PBC \n",
    "\n",
    "Prompt: \"periodic boundary conditions in python\" \n",
    "\n",
    "**Wrong:**\n",
    "- Why is the position updated with velocity? Nobody asked for that...\n",
    "- why are positions floats? Should they not be vectors?\n",
    "\n",
    "Also note, even if we fix the ``velocity*dt``:\n",
    "- Is ``new_position % box_length`` actually doing the right thing? (yes, but only if box is defined $[0,L]$\n",
    "- This function actually takes a distance vector and not two positions, so expected input is different\n",
    "- Ths function returns a distance vector (wrapped in PBC), so the length will need to be computed outside of this function "
   ]
  },
  {
   "cell_type": "code",
   "execution_count": 16,
   "id": "2156adb8-a5f4-4401-ac52-1ff517d746d6",
   "metadata": {},
   "outputs": [
    {
     "name": "stdout",
     "output_type": "stream",
     "text": [
      "Initial position: 9.0\n",
      "Final position: 1.0\n"
     ]
    }
   ],
   "source": [
    "import numpy as np\n",
    "\n",
    "def update_position_pbc(position, velocity, dt, box_length):\n",
    "    \"\"\"Updates position with periodic boundary conditions.\"\"\"\n",
    "    new_position = position + velocity * dt\n",
    "    # Apply periodic boundary condition\n",
    "    new_position = new_position % box_length\n",
    "    return new_position\n",
    "\n",
    "# Example usage\n",
    "box_length = 10.0\n",
    "initial_position = 9.0\n",
    "velocity = 2.0\n",
    "dt = 1.0\n",
    "\n",
    "final_position = update_position_pbc(initial_position, velocity, dt, box_length)\n",
    "print(f\"Initial position: {initial_position}\")\n",
    "print(f\"Final position: {final_position}\") # Expected output: 1.0"
   ]
  },
  {
   "cell_type": "code",
   "execution_count": 17,
   "id": "0d18af25-f81d-4f86-87a4-33421b2b2e47",
   "metadata": {},
   "outputs": [],
   "source": [
    "def update_position_pbc(distance_vector, box_length):\n",
    "    \"\"\"Updates distance_vector with periodic boundary conditions.\"\"\"\n",
    "    # Apply periodic boundary condition\n",
    "    distance_vector_new = distance_vector % box_length\n",
    "    return distance_vector_new"
   ]
  },
  {
   "cell_type": "code",
   "execution_count": 23,
   "id": "28676a2a-d257-4f14-85df-dc38ae0900d9",
   "metadata": {},
   "outputs": [
    {
     "name": "stdout",
     "output_type": "stream",
     "text": [
      "output distance vector [1. 3. 5.]\n",
      "length of that vector is  5.916079783099616\n",
      "comp.output of dist_pbc_1 5.916079783099616\n"
     ]
    }
   ],
   "source": [
    "dist = np.array([11.0,3,5]) \n",
    "box_length = np.array([10,10,10])\n",
    "\n",
    "q = update_position_pbc(dist,box_length)\n",
    "print(\"output distance vector\",q)\n",
    "print(\"length of that vector is \",np.linalg.norm(q))\n",
    "q = dist_pbc_1(dist,[0.0,0,0],box_length)\n",
    "print(\"comp.output of dist_pbc_1\",q)"
   ]
  },
  {
   "cell_type": "markdown",
   "id": "ed5bbbd8-9e32-487f-87ac-0f33039a7ac7",
   "metadata": {},
   "source": [
    "HOOMD-blue ``minImage`` function:\n",
    "https://github.com/glotzerlab/hoomd-blue/blob/a2e67782167d8f618f91b8ca7a8589f136493869/hoomd/BoxDim.h#L313\n",
    "\n",
    "LAMMPS ``Domain::pnc()`` function: https://github.com/lammps/lammps/blob/173e79699c351a2c10ad50630b367bc22b67ae50/src/domain.cpp#L806"
   ]
  },
  {
   "cell_type": "markdown",
   "id": "e364074c-f841-4ce2-9b49-0d4852ae00c3",
   "metadata": {},
   "source": [
    "## Illustration of potential PBC Issues with Ordered Structures \n",
    "\n",
    "PBC can create all kinds of artificial effects (finite size, etc.), including the fact that things need to \"fit\" into the box. That means that for example large fluctuations are cut off, and other effects. It also means that periodic or ordered structures need to fit into the box as well. \n",
    "\n",
    "Consider a hexagonal 2D crystal in a periodic box: "
   ]
  },
  {
   "cell_type": "code",
   "execution_count": 12,
   "id": "70e926b5-fcfd-44f7-a180-19e63aa64a32",
   "metadata": {},
   "outputs": [
    {
     "data": {
      "image/png": "[encoded data removed]",
      "text/plain": [
       "<Figure size 640x480 with 1 Axes>"
      ]
     },
     "metadata": {},
     "output_type": "display_data"
    }
   ],
   "source": [
    "import matplotlib.pyplot as plt\n",
    "import numpy as np\n",
    "from matplotlib.patches import Rectangle \n",
    "\n",
    "def create_hexagonal_lattice_coords(rows, cols, spacing=1.0):\n",
    "    x_coords = []\n",
    "    y_coords = []\n",
    "\n",
    "    # Calculate horizontal and vertical spacing for a hexagonal grid\n",
    "    hex_width = spacing * np.sqrt(3)\n",
    "    hex_height = spacing * 1.5\n",
    "\n",
    "    for r in range(rows):\n",
    "        for c in range(cols):\n",
    "            x = c * hex_width\n",
    "            y = r * hex_height\n",
    "\n",
    "            # Offset odd-numbered columns to create the hexagonal pattern\n",
    "            if c % 2 != 0:\n",
    "                y += hex_height / 2\n",
    "\n",
    "            x_coords.append(x)\n",
    "            y_coords.append(y)\n",
    "\n",
    "    return np.array(x_coords), np.array(y_coords)\n",
    "\n",
    "# Define lattice dimensions\n",
    "num_rows = 5\n",
    "num_cols = 5\n",
    "particle_spacing = 1.0\n",
    "box_L = 7.5 \n",
    "# Generate coordinates\n",
    "x_particles, y_particles = create_hexagonal_lattice_coords(num_rows, num_cols, particle_spacing)\n",
    "\n",
    "# Create the scatter plot\n",
    "fig, ax = plt.subplots(1,1)\n",
    "rect = Rectangle((0, 0), width=box_L, height=box_L, facecolor='none', edgecolor='b', linewidth=2)\n",
    "ax.add_patch(rect)\n",
    "ax.scatter(x_particles, y_particles, s=50, color='blue', marker='o') \n",
    "\n",
    "ax.set_aspect('equal', adjustable='box') # Ensure equal aspect ratio for correct visualization\n",
    "plt.show()"
   ]
  },
  {
   "cell_type": "markdown",
   "id": "7a88c201-11e8-4dc7-8ea5-22ce05e95778",
   "metadata": {},
   "source": [
    "Looks good at first glance! But wait: "
   ]
  },
  {
   "cell_type": "code",
   "execution_count": 21,
   "id": "8d50efcb-30ae-497f-be81-4c72d6455d76",
   "metadata": {},
   "outputs": [
    {
     "data": {
      "image/png": "[encoded data removed]",
      "text/plain": [
       "<Figure size 1000x1000 with 1 Axes>"
      ]
     },
     "metadata": {},
     "output_type": "display_data"
    }
   ],
   "source": [
    "# Create the scatter plot\n",
    "fig, ax = plt.subplots(1,1,figsize=(10,10))\n",
    "rect = Rectangle((0, 0), width=box_L, height=box_L, facecolor='none', edgecolor='b', linewidth=2)\n",
    "ax.add_patch(rect)\n",
    "rect = Rectangle((box_L, 0), width=box_L, height=box_L, facecolor='none', edgecolor='green', linewidth=2)\n",
    "ax.add_patch(rect)\n",
    "rect = Rectangle((0, box_L), width=box_L, height=box_L, facecolor='none', edgecolor='red', linewidth=2)\n",
    "ax.add_patch(rect)\n",
    "rect = Rectangle((box_L, box_L), width=box_L, height=box_L, facecolor='none', edgecolor='orange', linewidth=2)\n",
    "ax.add_patch(rect)\n",
    "ax.scatter(x_particles, y_particles, s=50, color='blue', marker='o') \n",
    "ax.scatter(x_particles+box_L, y_particles, s=50, color='green', marker='o') \n",
    "ax.scatter(x_particles, y_particles+box_L, s=50, color='red', marker='o') \n",
    "ax.scatter(x_particles+box_L, y_particles+box_L, s=50, color='orange', marker='o') \n",
    "\n",
    "ax.set_aspect('equal', adjustable='box') # Ensure equal aspect ratio for correct visualization\n",
    "plt.show()"
   ]
  },
  {
   "cell_type": "markdown",
   "id": "64c3bf28-0d55-4729-b9e9-d8b70874bcdd",
   "metadata": {},
   "source": [
    "When looking at replicas (the red,green, and organge points) it becomes apparent that in a box with PBC our 2D hexagonal lattice has a pretty obvious stacking fault at the $x$ boundary. It looks good in the $y$ direction. "
   ]
  },
  {
   "cell_type": "code",
   "execution_count": null,
   "id": "f7e7f510-220e-4dc2-a343-3262d20323a5",
   "metadata": {},
   "outputs": [],
   "source": []
  }
 ],
 "metadata": {
  "kernelspec": {
   "display_name": "Python 3 (ipykernel)",
   "language": "python",
   "name": "python3"
  },
  "language_info": {
   "codemirror_mode": {
    "name": "ipython",
    "version": 3
   },
   "file_extension": ".py",
   "mimetype": "text/x-python",
   "name": "python",
   "nbconvert_exporter": "python",
   "pygments_lexer": "ipython3",
   "version": "3.11.8"
  }
 },
 "nbformat": 4,
 "nbformat_minor": 5
}
